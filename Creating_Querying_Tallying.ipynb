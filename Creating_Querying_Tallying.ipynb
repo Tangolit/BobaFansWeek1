{
 "cells": [
  {
   "cell_type": "code",
   "execution_count": null,
   "id": "6884d9ec-e089-43c2-b779-46c431526a46",
   "metadata": {},
   "outputs": [],
   "source": [
    "# This is how the data base should look\n",
    "peak_pair_i = (f_i, f_j, t_ij)\n",
    "database = {\n",
    "    peak_pair_i : (\"artist_songName\", time_in_song)\n",
    "}"
   ]
  },
  {
   "cell_type": "code",
   "execution_count": null,
   "id": "24a4c679-b63e-4d28-ba08-dab49f7a083e",
   "metadata": {},
   "outputs": [],
   "source": [
    "#This should be how to take the peaks from the fingerprints to store into a database\n",
    "for (f_i, f_j, t_ij), t_m in fingerprints: # This I think would be the fingerprint itself\n",
    "    database[(f_i, f_j, t_ij)] = (\"artist_songName\", t_m)"
   ]
  },
  {
   "cell_type": "code",
   "execution_count": null,
   "id": "65aff54b-1fec-4d87-b4ae-804c346ccefe",
   "metadata": {},
   "outputs": [],
   "source": [
    "#This should be how to query the database\n",
    "from collections import Counter\n",
    "\n",
    "peaks_in_songs = [] #These are all the peaks that were similar in all the songs\n",
    "\n",
    "for peak, t_clip in fanout_clip: #This could probably be the fingerprint of the recorded clip\n",
    "    if peak in database: #Checks if the peak is in the database\n",
    "        peaks_in_songs.append((database[peak][0], database[peak][1] - t_clip)) #Adds the song to the database as well as the time offset\n",
    "\n",
    "most_common_song = Counter(peaks_in_songs).most_common(1)[0][0] # Counts the song and the time offset in the peaks that were similar between the song and recording and checks whether the song and the time offsets are the saem\n"
   ]
  }
 ],
 "metadata": {
  "kernelspec": {
   "display_name": "Python [conda env:base] *",
   "language": "python",
   "name": "conda-base-py"
  },
  "language_info": {
   "codemirror_mode": {
    "name": "ipython",
    "version": 3
   },
   "file_extension": ".py",
   "mimetype": "text/x-python",
   "name": "python",
   "nbconvert_exporter": "python",
   "pygments_lexer": "ipython3",
   "version": "3.12.7"
  }
 },
 "nbformat": 4,
 "nbformat_minor": 5
}
