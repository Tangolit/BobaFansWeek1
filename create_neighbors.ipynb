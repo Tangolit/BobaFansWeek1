{
 "cells": [
  {
   "cell_type": "code",
   "execution_count": null,
   "id": "24efd965",
   "metadata": {},
   "outputs": [],
   "source": [
    "#make fingerprints for each peak in a list of peaks\n",
    "def make_fingerprints(peaks, n_neighbors):\n",
    "    #sort peaks by frequency and time\n",
    "    peaks = sorted(peaks, key=lambda x: (x[0], x[1]))\n",
    "\n",
    "    fingerprints = []\n",
    "\n",
    "    for i, current_peak in enumerate(peaks): #for index i and current peak\n",
    "        f1, t1 = current_peak\n",
    "        count = 0 #0 neighbors found so far\n",
    "        fanout = []\n",
    "\n",
    "        #go through peaks after to find neighbors\n",
    "        for peak in peaks[i + 1:]:\n",
    "            f2, t2 = peak\n",
    "            delta_t = t2 - t1\n",
    "\n",
    "            if delta_t >= 0: #the neighbor happens after the peak\n",
    "                fanout.append(((f1, f2, delta_t), t1)) #add the neighbor to fanout\n",
    "                count += 1\n",
    "\n",
    "            if count >= n_neighbors: #once all neighbors are found\n",
    "                break\n",
    "        \n",
    "        fingerprints.append(fanout) #add fanout to fingerprints\n",
    "    \n",
    "    return fingerprints"
   ]
  }
 ],
 "metadata": {
  "kernelspec": {
   "display_name": "Python 3.8 (week1)",
   "language": "python",
   "name": "week1"
  },
  "language_info": {
   "name": "python",
   "version": "3.8.20"
  }
 },
 "nbformat": 4,
 "nbformat_minor": 5
}
