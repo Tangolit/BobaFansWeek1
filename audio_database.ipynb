{
 "cells": [
  {
   "cell_type": "code",
   "execution_count": null,
   "metadata": {},
   "outputs": [],
   "source": []
  },
  {
   "cell_type": "code",
   "execution_count": 13,
   "metadata": {},
   "outputs": [
    {
     "name": "stdout",
     "output_type": "stream",
     "text": [
      "Defaulting to user installation because normal site-packages is not writeable\n",
      "Requirement already satisfied: librosa in /Users/adityashrivastava/Library/Python/3.9/lib/python/site-packages (0.11.0)\n",
      "Requirement already satisfied: soundfile>=0.12.1 in /Users/adityashrivastava/Library/Python/3.9/lib/python/site-packages (from librosa) (0.13.1)\n",
      "Requirement already satisfied: scipy>=1.6.0 in /Users/adityashrivastava/Library/Python/3.9/lib/python/site-packages (from librosa) (1.13.1)\n",
      "Requirement already satisfied: decorator>=4.3.0 in /Users/adityashrivastava/Library/Python/3.9/lib/python/site-packages (from librosa) (5.2.1)\n",
      "Requirement already satisfied: typing_extensions>=4.1.1 in /Users/adityashrivastava/Library/Python/3.9/lib/python/site-packages (from librosa) (4.13.0)\n",
      "Requirement already satisfied: numpy>=1.22.3 in /Users/adityashrivastava/Library/Python/3.9/lib/python/site-packages (from librosa) (2.0.2)\n",
      "Requirement already satisfied: soxr>=0.3.2 in /Users/adityashrivastava/Library/Python/3.9/lib/python/site-packages (from librosa) (0.5.0.post1)\n",
      "Requirement already satisfied: scikit-learn>=1.1.0 in /Users/adityashrivastava/Library/Python/3.9/lib/python/site-packages (from librosa) (1.6.1)\n",
      "Requirement already satisfied: lazy_loader>=0.1 in /Users/adityashrivastava/Library/Python/3.9/lib/python/site-packages (from librosa) (0.4)\n",
      "Requirement already satisfied: audioread>=2.1.9 in /Users/adityashrivastava/Library/Python/3.9/lib/python/site-packages (from librosa) (3.0.1)\n",
      "Requirement already satisfied: pooch>=1.1 in /Users/adityashrivastava/Library/Python/3.9/lib/python/site-packages (from librosa) (1.8.2)\n",
      "Requirement already satisfied: joblib>=1.0 in /Users/adityashrivastava/Library/Python/3.9/lib/python/site-packages (from librosa) (1.5.1)\n",
      "Requirement already satisfied: numba>=0.51.0 in /Users/adityashrivastava/Library/Python/3.9/lib/python/site-packages (from librosa) (0.60.0)\n",
      "Requirement already satisfied: msgpack>=1.0 in /Users/adityashrivastava/Library/Python/3.9/lib/python/site-packages (from librosa) (1.1.1)\n",
      "Requirement already satisfied: packaging in /Users/adityashrivastava/Library/Python/3.9/lib/python/site-packages (from lazy_loader>=0.1->librosa) (24.2)\n",
      "Requirement already satisfied: llvmlite<0.44,>=0.43.0dev0 in /Users/adityashrivastava/Library/Python/3.9/lib/python/site-packages (from numba>=0.51.0->librosa) (0.43.0)\n",
      "Requirement already satisfied: platformdirs>=2.5.0 in /Users/adityashrivastava/Library/Python/3.9/lib/python/site-packages (from pooch>=1.1->librosa) (4.3.7)\n",
      "Requirement already satisfied: requests>=2.19.0 in /Users/adityashrivastava/Library/Python/3.9/lib/python/site-packages (from pooch>=1.1->librosa) (2.32.4)\n",
      "Requirement already satisfied: certifi>=2017.4.17 in /Users/adityashrivastava/Library/Python/3.9/lib/python/site-packages (from requests>=2.19.0->pooch>=1.1->librosa) (2025.7.9)\n",
      "Requirement already satisfied: charset_normalizer<4,>=2 in /Users/adityashrivastava/Library/Python/3.9/lib/python/site-packages (from requests>=2.19.0->pooch>=1.1->librosa) (3.4.2)\n",
      "Requirement already satisfied: urllib3<3,>=1.21.1 in /Users/adityashrivastava/Library/Python/3.9/lib/python/site-packages (from requests>=2.19.0->pooch>=1.1->librosa) (2.5.0)\n",
      "Requirement already satisfied: idna<4,>=2.5 in /Users/adityashrivastava/Library/Python/3.9/lib/python/site-packages (from requests>=2.19.0->pooch>=1.1->librosa) (3.10)\n",
      "Requirement already satisfied: threadpoolctl>=3.1.0 in /Users/adityashrivastava/Library/Python/3.9/lib/python/site-packages (from scikit-learn>=1.1.0->librosa) (3.6.0)\n",
      "Requirement already satisfied: cffi>=1.0 in /Users/adityashrivastava/Library/Python/3.9/lib/python/site-packages (from soundfile>=0.12.1->librosa) (1.17.1)\n",
      "Requirement already satisfied: pycparser in /Users/adityashrivastava/Library/Python/3.9/lib/python/site-packages (from cffi>=1.0->soundfile>=0.12.1->librosa) (2.22)\n",
      "\u001b[33mWARNING: You are using pip version 21.2.4; however, version 25.1.1 is available.\n",
      "You should consider upgrading via the '/Library/Developer/CommandLineTools/usr/bin/python3 -m pip install --upgrade pip' command.\u001b[0m\n",
      "Note: you may need to restart the kernel to use updated packages.\n"
     ]
    }
   ],
   "source": [
    "pip install librosa"
   ]
  },
  {
   "cell_type": "code",
   "execution_count": 14,
   "metadata": {},
   "outputs": [],
   "source": [
    "import os\n",
    "import pickle\n",
    "import librosa\n",
    "import numpy as np"
   ]
  },
  {
   "cell_type": "code",
   "execution_count": 15,
   "metadata": {},
   "outputs": [],
   "source": [
    "class AudioDatabase:\n",
    "    ##initializes database based on path\n",
    "    def _init_(self, db_path = \"data\"): ##what would this path be?\n",
    "        self.db_path = db_path\n",
    "        self.database = {}\n",
    "        self.load_database()\n",
    "    \n",
    "    ##should check if database exists and loads it with pickel\n",
    "    def load_database(self):\n",
    "        if os.path.exists(self.db.path):\n",
    "            with open(self.db_path, \"rb\") as f:\n",
    "                self.database = pickle.load(f)\n",
    "            print(f\"Database loaded from {self.db_path}\")\n",
    "        else: \n",
    "            print(f\"No database found at {self.db_path}\")\n",
    "    \n",
    "    ##creates database, \n",
    "    def save_database(self):\n",
    "        os.makedirs(os.path.dirname(self.db_path), exist_ok = True)\n",
    "        with open(self.db_path, \"wb\") as f:\n",
    "            pickle.dump(self.database, f)\n",
    "        print(\"saved\")\n",
    "\n",
    "  \n",
    "        \n"
   ]
  },
  {
   "cell_type": "code",
   "execution_count": 16,
   "metadata": {},
   "outputs": [],
   "source": [
    "##prints all songs in database\n",
    "def list_songs(self): \n",
    "        if not self.database:\n",
    "            print(\"No songs in database.\")\n",
    "            return \n",
    "        for i, (key, song) in enumerate(self.database.items(), 1): \n",
    "            print(f\"{i}. {song['title']} by {song['artist']}\")"
   ]
  },
  {
   "cell_type": "code",
   "execution_count": 17,
   "metadata": {},
   "outputs": [],
   "source": [
    "##retrieves song data based on title + artist\n",
    "def get_song_data(self, title, artist): ##are we using title and artist as keys?\n",
    "    key = self._make_key(title, artist)\n",
    "    return self.database.get(key, {})"
   ]
  },
  {
   "cell_type": "markdown",
   "metadata": {},
   "source": [
    "TESTING"
   ]
  },
  {
   "cell_type": "code",
   "execution_count": 21,
   "metadata": {},
   "outputs": [
    {
     "ename": "ModuleNotFoundError",
     "evalue": "No module named 'Week1_cap'",
     "output_type": "error",
     "traceback": [
      "\u001b[0;31m---------------------------------------------------------------------------\u001b[0m",
      "\u001b[0;31mModuleNotFoundError\u001b[0m                       Traceback (most recent call last)",
      "Cell \u001b[0;32mIn[21], line 1\u001b[0m\n\u001b[0;32m----> 1\u001b[0m \u001b[38;5;28;01mfrom\u001b[39;00m\u001b[38;5;250m \u001b[39m\u001b[38;5;21;01mWeek1_cap\u001b[39;00m\u001b[38;5;250m \u001b[39m\u001b[38;5;28;01mimport\u001b[39;00m AudioDatabase\n",
      "\u001b[0;31mModuleNotFoundError\u001b[0m: No module named 'Week1_cap'"
     ]
    }
   ],
   "source": [
    "from Week1_cap import AudioDatabase"
   ]
  }
 ],
 "metadata": {
  "kernelspec": {
   "display_name": "Python 3",
   "language": "python",
   "name": "python3"
  },
  "language_info": {
   "codemirror_mode": {
    "name": "ipython",
    "version": 3
   },
   "file_extension": ".py",
   "mimetype": "text/x-python",
   "name": "python",
   "nbconvert_exporter": "python",
   "pygments_lexer": "ipython3",
   "version": "3.9.6"
  }
 },
 "nbformat": 4,
 "nbformat_minor": 2
}
