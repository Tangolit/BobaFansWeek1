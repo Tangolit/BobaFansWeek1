{
 "cells": [
  {
   "cell_type": "markdown",
   "id": "c665e2dc",
   "metadata": {},
   "source": [
    "# CAPSTONE PART 1 #\n"
   ]
  },
  {
   "cell_type": "markdown",
   "id": "4152de5f",
   "metadata": {},
   "source": [
    "### Goal: Creating functions for converting all variety of audio recordings, be them recorded from the microphone or digital audio files, into a NumPy-array of digital samples. ###"
   ]
  },
  {
   "cell_type": "code",
   "execution_count": 9,
   "id": "c97396fc",
   "metadata": {},
   "outputs": [],
   "source": [
    "import numpy as np \n",
    "import librosa\n",
    "from typing import Tuple, Union, Callable\n",
    "import pyaudio"
   ]
  },
  {
   "cell_type": "code",
   "execution_count": 10,
   "id": "cd0c94b3",
   "metadata": {},
   "outputs": [],
   "source": [
    "def load_audio_file(filespath):\n",
    "    \"\"\"\n",
    "    Load an audio file and return the audio samples and sample rate.\n",
    "\n",
    "    Args:\n",
    "        filepath (str): Path to the audio file.\n",
    "\n",
    "    Returns:\n",
    "        Tuple[np.ndarray, int]: A tuple containing the audio samples as a NumPy array\n",
    "        and the sample rate of the audio file.\n",
    "    \"\"\"\n",
    "    #this depends on whether we have pre-recorded audio or not, otherwise this would change\n",
    "    samples, sample_rate = librosa.load(filespath, sr=None) \n",
    "    return samples, sample_rate"
   ]
  },
  {
   "cell_type": "code",
   "execution_count": 11,
   "id": "46b985e1",
   "metadata": {},
   "outputs": [],
   "source": [
    "#shows the analog signal at the given time frames\n",
    "def analog_signal(times: np.ndarray)  -> np.ndarray:\n",
    "    \"\"\"\n",
    "    Generate an analog signal based on the given times.\n",
    "\n",
    "    Args:\n",
    "        times (np.ndarray): An array of time values,wqhich would then be converted into a digital sample.\n",
    "\n",
    "    Returns:\n",
    "        the val of the analog signal at a given time \n",
    "    \"\"\"\n",
    "    return 1 / (1 + np.exp(-10 * (times - 1)))\n",
    "    "
   ]
  },
  {
   "cell_type": "code",
   "execution_count": 12,
   "id": "fcb96bbb",
   "metadata": {},
   "outputs": [],
   "source": [
    "#direct from the analogtodigital notebook\n",
    "def temporal_sampler(\n",
    "    signal: Callable[[np.ndarray], np.ndarray], *, duration: float, sampling_rate: float\n",
    ") -> Tuple[np.ndarray, np.ndarray]:\n",
    "    \"\"\"\n",
    "    Extracts samples from an analog signal according to the specified sampling rate,\n",
    "    returning the times and the corresponding samples extracted at those times.\n",
    "\n",
    "    Parameters\n",
    "    ----------\n",
    "    signal : Callable[[ndarray], ndarray]\n",
    "        Another Python function (i.e. a \"callable\"), which behaves like f(t)\n",
    "        and accepts a time value (in seconds) as an input and returns a\n",
    "        measurement (e.g. in volts) as an output. You can expect this to behave like\n",
    "        a vectorized function i.e. it can be passed a NumPy-array of input times\n",
    "        and it will return a corresponding array of measurements.\n",
    "\n",
    "    duration : float\n",
    "        The duration of the signal, specified in seconds (a non-negative float)\n",
    "\n",
    "    sampling_rate : float\n",
    "        The sampling rate specified in Hertz.\n",
    "\n",
    "    Returns\n",
    "    -------\n",
    "    (times, samples) : Tuple[ndarray, ndarray]\n",
    "        The shape-(N,) array of times and the corresponding shape-(N,) array\n",
    "        samples extracted from the analog signal\n",
    "\n",
    "    \"\"\"\n",
    "    N_samples = np.floor(sampling_rate * duration) + 1\n",
    "\n",
    "    # shape-(N,) array of times at which we sample the analog signal\n",
    "    times = np.arange(N_samples) * (1 / sampling_rate)  # seconds\n",
    "\n",
    "    # shape-(N,) array of samples extracted from the analog signal\n",
    "    samples = signal(times)\n",
    "\n",
    "    return times, samples\n"
   ]
  },
  {
   "cell_type": "code",
   "execution_count": 13,
   "id": "a0ec26d2",
   "metadata": {},
   "outputs": [],
   "source": [
    "def quantize(samples: np.ndarray, bit_depth: int) -> np.ndarray:\n",
    "    \"\"\"\n",
    "    Given an array of N samples and a bit-depth of M, return the array of\n",
    "    quantized samples derived from the domain [samples.min(), samples.max()]\n",
    "    that has been quantized into 2**M evenly-spaced values.\n",
    "\n",
    "    Parameters\n",
    "    ----------\n",
    "    samples : numpy.ndarray, shape-(N,)\n",
    "        An array of N samples\n",
    "\n",
    "    bit_depth: int\n",
    "        The bit-depth, M, used to quantize the samples among\n",
    "        2**M evenly spaced values spanning [samples.min(), samples.max()].\n",
    "\n",
    "    Returns\n",
    "    -------\n",
    "    quantized_samples : numpy.ndarray, shape-(N,)\n",
    "        The corresponding array where each sample has been replaced\n",
    "        by the nearest quantized value\n",
    "\n",
    "    \"\"\"\n",
    "\n",
    "    # spanning [samples.min(), samples.max()]\n",
    "    quantized_values = np.linspace(samples.min(), samples.max(), 2 ** bit_depth)\n",
    "\n",
    "    abs_differences = np.abs(samples[:, np.newaxis] - quantized_values)\n",
    "\n",
    "  \n",
    "    bin_lookup = np.argmin(abs_differences, axis=1)\n",
    "\n",
    "    return quantized_values[bin_lookup]"
   ]
  },
  {
   "cell_type": "code",
   "execution_count": 14,
   "id": "8e792fac",
   "metadata": {},
   "outputs": [],
   "source": [
    "def analog_to_digital(\n",
    "    analog_signal: Callable[[np.ndarray], np.ndarray],\n",
    "    *,\n",
    "    sampling_rate: float,\n",
    "    bit_depth: int,\n",
    "    duration: float\n",
    ") -> Tuple[np.ndarray, np.ndarray]:\n",
    "    \"\"\"\n",
    "    Digitizes a given analog signal based on desired sampling rate and bit-depth.\n",
    "    \n",
    "    Parameters\n",
    "    ----------\n",
    "    analog_signal : Callable[[ndarray], ndarray]\n",
    "        Another Python function, f(t), which accepts a time value (in seconds) as\n",
    "        an input and returns a measurement (in volts) as an output.\n",
    "    \n",
    "    sampling_rate : float\n",
    "        The sampling rate specified in Hertz.\n",
    "    \n",
    "    bit_depth: int\n",
    "        The bit-depth, M, used to quantize the samples among\n",
    "        2**M evenly spaced values spanning [samples.min(), samples.max()].\n",
    "    \n",
    "    duration : float\n",
    "        The duration of the signal, specified in seconds (a non-negative float).\n",
    "    \n",
    "    Returns\n",
    "    -------\n",
    "    (times, digital_signal) : Tuple[ndarray, ndarray]\n",
    "        The shape-(N,) array of times and the corresponding\n",
    "        shape-(N,) array representing the sampled & quantized digital signal.\n",
    "    \"\"\"\n",
    "\n",
    "    times, samples = temporal_sampler(\n",
    "        analog_signal, duration=duration, sampling_rate=sampling_rate\n",
    "    )\n",
    "    digital_signal = quantize(samples, bit_depth)\n",
    "\n",
    "    return times, digital_signal"
   ]
  },
  {
   "cell_type": "markdown",
   "id": "fb217e1f",
   "metadata": {},
   "source": [
    "### TESTING ###"
   ]
  },
  {
   "cell_type": "markdown",
   "id": "5b39bad3",
   "metadata": {},
   "source": []
  },
  {
   "cell_type": "code",
   "execution_count": 16,
   "id": "b6c33820",
   "metadata": {},
   "outputs": [
    {
     "name": "stdout",
     "output_type": "stream",
     "text": [
      "[-2.000e+00 -5.000e+00 -1.000e+00 ...  4.225e+03  4.414e+03  4.397e+03]\n",
      "[4.53978687e-05 4.53978687e-05 4.53978687e-05 4.53978687e-05\n",
      " 4.53978687e-05 4.53978687e-05 4.53978687e-05 4.53978687e-05\n",
      " 4.53978687e-05 3.33348466e-01 3.33348466e-01 6.66651534e-01\n",
      " 9.99954602e-01 9.99954602e-01 9.99954602e-01 9.99954602e-01\n",
      " 9.99954602e-01 9.99954602e-01 9.99954602e-01 9.99954602e-01\n",
      " 9.99954602e-01]\n"
     ]
    }
   ],
   "source": [
    "#song path will be altered post test, just to see if it works \n",
    "#DIGITAL AUDIO FILES\n",
    "song_path = r\"C:\\Users\\abhyu\\dev\\CogWorks\\Week_1\\data\\trumpet.wav\"\n",
    "samples, sample_rate = load_audio_file(song_path)\n",
    "print(samples)\n",
    "\n",
    "# ANALOG SIGNAL\n",
    "\n",
    "\n",
    "duration = 2  # seconds, however depends on how long the sample length is, just simulating\n",
    "sample_rate = 10  # Hz, again simulating a sampling rate\n",
    "bit_depth = 2  # bits\n",
    "times, samples = analog_to_digital(\n",
    "    analog_signal=analog_signal,\n",
    "    duration=duration,\n",
    "    sampling_rate=sample_rate,\n",
    "    bit_depth=bit_depth,\n",
    ")\n",
    "print(samples)"
   ]
  },
  {
   "cell_type": "code",
   "execution_count": null,
   "id": "052127ae",
   "metadata": {},
   "outputs": [],
   "source": []
  }
 ],
 "metadata": {
  "kernelspec": {
   "display_name": "week1",
   "language": "python",
   "name": "python3"
  },
  "language_info": {
   "codemirror_mode": {
    "name": "ipython",
    "version": 3
   },
   "file_extension": ".py",
   "mimetype": "text/x-python",
   "name": "python",
   "nbconvert_exporter": "python",
   "pygments_lexer": "ipython3",
   "version": "3.13.5"
  }
 },
 "nbformat": 4,
 "nbformat_minor": 5
}
